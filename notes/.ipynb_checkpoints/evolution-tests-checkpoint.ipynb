{
 "cells": [
  {
   "cell_type": "markdown",
   "id": "continent-agent",
   "metadata": {},
   "source": [
    "20/07/2021\n",
    "v1.00\n",
    "\n",
    "Conditions listed in table below were simulated:\n",
    "\n",
    "|  | $n_P$ | $\\epsilon$ | $\\Delta \\epsilon$ | $\\% m$ |\n",
    "| :-: | -: | -: | -: | -: |\n",
    "| **1** | 1000 | 0.85 | $-$ | 0.10 |\n",
    "| **2** | 1000 | 1.00 | $-$ | 0.10 |\n",
    "| **3** | 1000 | 0.35 | $-$ | 0.10 |\n",
    "\n",
    "**Note**: due to lack of implementation of increasing environmental factor difficulty all $\\Delta \\epsilon$ fields will have value `Null`. When this feature is implemented, later simulations will include manipulation of this field.\n",
    "\n",
    "## Test elaborations\n",
    "**1)** Simulate changes in $P$ when $\\epsilon$ is \"manageable\", that is $\\epsilon \\approx \\overline{w_P}$.\n",
    "\n",
    "**2)** Simulate changes in $P$ when $\\epsilon$ is too high.\n",
    "\n",
    "**3)** Simulate changes in $P$ when $\\epsilon$ is lower than average no fitness (no selective force).\n",
    "\n",
    "Find **selective force**  by calculating change in location of $\\overline{z}$, represented in vector form $\\vec{F_s} = \\Delta \\overline{z} = \\begin{pmatrix} x \\\\ y \\end{pmatrix}$."
   ]
  },
  {
   "cell_type": "markdown",
   "id": "8fcc0f84",
   "metadata": {},
   "source": [
    "Test 1 results\n",
    "\n",
    "Total tests run: 15\n",
    "\n",
    "$\\% \\mu/m^+ = 0.11$ \n",
    "\n",
    "| | $n_{p}$ | $\\epsilon_0$ | $\\overline{z}_0$ | $\\overline{z}_t$ | $\\Delta t$ |\n",
    "| :-: | -: | -: | -: | -: | -: |\n",
    "| **1** | 100 | 0.75 | $\\sim 0.5$ | $\\sim 0.75$ | $\\sim 350$ |"
   ]
  },
  {
   "cell_type": "code",
   "execution_count": null,
   "id": "precious-disclosure",
   "metadata": {},
   "outputs": [],
   "source": []
  }
 ],
 "metadata": {
  "kernelspec": {
   "display_name": "Python 3",
   "language": "python",
   "name": "python3"
  },
  "language_info": {
   "codemirror_mode": {
    "name": "ipython",
    "version": 3
   },
   "file_extension": ".py",
   "mimetype": "text/x-python",
   "name": "python",
   "nbconvert_exporter": "python",
   "pygments_lexer": "ipython3",
   "version": "3.9.5"
  }
 },
 "nbformat": 4,
 "nbformat_minor": 5
}
